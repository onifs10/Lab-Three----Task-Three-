{
 "cells": [
  {
   "cell_type": "markdown",
   "id": "f134a017",
   "metadata": {},
   "source": [
    "### Imports"
   ]
  },
  {
   "cell_type": "code",
   "execution_count": 2,
   "id": "dbb3e418",
   "metadata": {},
   "outputs": [],
   "source": [
    "import nltk"
   ]
  },
  {
   "cell_type": "code",
   "execution_count": 154,
   "id": "1d11c6cd",
   "metadata": {},
   "outputs": [],
   "source": [
    "# uncomment to install datasets\n",
    "# nltk.download('popular')\n",
    "# nltk.download('punkt')"
   ]
  },
  {
   "cell_type": "markdown",
   "id": "6e902dc4",
   "metadata": {},
   "source": [
    "### Define CFG (Context free gramma) for Simple English"
   ]
  },
  {
   "cell_type": "code",
   "execution_count": 5,
   "id": "a5a447a1",
   "metadata": {},
   "outputs": [],
   "source": [
    "english_grammar = nltk.CFG.fromstring(\"\"\"\n",
    "    S -> NP VP\n",
    "    NP -> N | Det N\n",
    "    VP -> V | V NP\n",
    "    N -> \"person\" | \"brother\" | \"sister\" | \"wife\" | \"husband\" | \"son\" | \"mother\" | \"father\" | \"inlaw\" | \"grandparent\" | \"ancestor\" | \"family\" | \"daughter\" | \"niece\" | \"parent\" | \"child\" | \"uncle\" | \"nephew\"\n",
    "    V -> \"walks\" | \"sees\" | \"loves\" | \"visits\" | \"talks\" | \"cares\"\n",
    "    Det -> \"the\" | \"a\"\n",
    "\"\"\")"
   ]
  },
  {
   "cell_type": "markdown",
   "id": "b8c04c16",
   "metadata": {},
   "source": [
    "### creating a parser"
   ]
  },
  {
   "cell_type": "code",
   "execution_count": 6,
   "id": "8799b4db",
   "metadata": {},
   "outputs": [],
   "source": [
    "parser = nltk.RecursiveDescentParser(english_grammar)"
   ]
  },
  {
   "cell_type": "code",
   "execution_count": 8,
   "id": "d5a14edf",
   "metadata": {},
   "outputs": [],
   "source": [
    "sentence = \"the person walks\"\n",
    "tokens = nltk.word_tokenize(sentence)\n",
    "trees = list(parser.parse(tokens))"
   ]
  },
  {
   "cell_type": "code",
   "execution_count": 9,
   "id": "585c702a",
   "metadata": {
    "collapsed": true
   },
   "outputs": [
    {
     "data": {
      "image/svg+xml": [
       "<svg baseProfile=\"full\" height=\"168px\" preserveAspectRatio=\"xMidYMid meet\" style=\"font-family: times, serif; font-weight:normal; font-style: normal; font-size: 16px;\" version=\"1.1\" viewBox=\"0,0,160.0,168.0\" width=\"160px\" xmlns=\"http://www.w3.org/2000/svg\" xmlns:ev=\"http://www.w3.org/2001/xml-events\" xmlns:xlink=\"http://www.w3.org/1999/xlink\"><defs /><svg width=\"100%\" x=\"0\" y=\"0em\"><defs /><text text-anchor=\"middle\" x=\"50%\" y=\"1em\">S</text></svg><svg width=\"65%\" x=\"0%\" y=\"3em\"><defs /><svg width=\"100%\" x=\"0\" y=\"0em\"><defs /><text text-anchor=\"middle\" x=\"50%\" y=\"1em\">NP</text></svg><svg width=\"38.4615%\" x=\"0%\" y=\"3em\"><defs /><svg width=\"100%\" x=\"0\" y=\"0em\"><defs /><text text-anchor=\"middle\" x=\"50%\" y=\"1em\">Det</text></svg><svg width=\"100%\" x=\"0%\" y=\"3em\"><defs /><svg width=\"100%\" x=\"0\" y=\"0em\"><defs /><text text-anchor=\"middle\" x=\"50%\" y=\"1em\">the</text></svg></svg><line stroke=\"black\" x1=\"50%\" x2=\"50%\" y1=\"1.2em\" y2=\"3em\" /></svg><line stroke=\"black\" x1=\"50%\" x2=\"19.2308%\" y1=\"1.2em\" y2=\"3em\" /><svg width=\"61.5385%\" x=\"38.4615%\" y=\"3em\"><defs /><svg width=\"100%\" x=\"0\" y=\"0em\"><defs /><text text-anchor=\"middle\" x=\"50%\" y=\"1em\">N</text></svg><svg width=\"100%\" x=\"0%\" y=\"3em\"><defs /><svg width=\"100%\" x=\"0\" y=\"0em\"><defs /><text text-anchor=\"middle\" x=\"50%\" y=\"1em\">person</text></svg></svg><line stroke=\"black\" x1=\"50%\" x2=\"50%\" y1=\"1.2em\" y2=\"3em\" /></svg><line stroke=\"black\" x1=\"50%\" x2=\"69.2308%\" y1=\"1.2em\" y2=\"3em\" /></svg><line stroke=\"black\" x1=\"50%\" x2=\"32.5%\" y1=\"1.2em\" y2=\"3em\" /><svg width=\"35%\" x=\"65%\" y=\"3em\"><defs /><svg width=\"100%\" x=\"0\" y=\"0em\"><defs /><text text-anchor=\"middle\" x=\"50%\" y=\"1em\">VP</text></svg><svg width=\"100%\" x=\"0%\" y=\"3em\"><defs /><svg width=\"100%\" x=\"0\" y=\"0em\"><defs /><text text-anchor=\"middle\" x=\"50%\" y=\"1em\">V</text></svg><svg width=\"100%\" x=\"0%\" y=\"3em\"><defs /><svg width=\"100%\" x=\"0\" y=\"0em\"><defs /><text text-anchor=\"middle\" x=\"50%\" y=\"1em\">walks</text></svg></svg><line stroke=\"black\" x1=\"50%\" x2=\"50%\" y1=\"1.2em\" y2=\"3em\" /></svg><line stroke=\"black\" x1=\"50%\" x2=\"50%\" y1=\"1.2em\" y2=\"3em\" /></svg><line stroke=\"black\" x1=\"50%\" x2=\"82.5%\" y1=\"1.2em\" y2=\"3em\" /></svg>"
      ],
      "text/plain": [
       "Tree('S', [Tree('NP', [Tree('Det', ['the']), Tree('N', ['person'])]), Tree('VP', [Tree('V', ['walks'])])])"
      ]
     },
     "execution_count": 9,
     "metadata": {},
     "output_type": "execute_result"
    }
   ],
   "source": [
    "trees[0]"
   ]
  },
  {
   "cell_type": "markdown",
   "id": "657aed8f",
   "metadata": {},
   "source": [
    "### sentence check function implementation"
   ]
  },
  {
   "cell_type": "code",
   "execution_count": 11,
   "id": "4e4d8614",
   "metadata": {},
   "outputs": [
    {
     "data": {
      "text/plain": [
       "nltk.grammar.CFG"
      ]
     },
     "execution_count": 11,
     "metadata": {},
     "output_type": "execute_result"
    }
   ],
   "source": [
    "type(english_grammar)"
   ]
  },
  {
   "cell_type": "code",
   "execution_count": 23,
   "id": "d7cb10c2",
   "metadata": {},
   "outputs": [],
   "source": [
    "def check_sentence(sentence:str,grammar:nltk.grammar.CFG) -> nltk.tree.tree.Tree:\n",
    "    parser = nltk.RecursiveDescentParser(grammar)\n",
    "    tokens = nltk.word_tokenize(sentence)\n",
    "    try:\n",
    "        trees = list(parser.parse(tokens))\n",
    "        if len(trees) > 0:\n",
    "            return trees[0];\n",
    "        else:\n",
    "            return None;\n",
    "    except :\n",
    "        return None"
   ]
  },
  {
   "cell_type": "code",
   "execution_count": 141,
   "id": "e6e300c7",
   "metadata": {},
   "outputs": [],
   "source": [
    "def check_english_sentence(sentence:str) -> None:\n",
    "    # grammar definition     \n",
    "    english_grammar = nltk.CFG.fromstring(\"\"\"\n",
    "        S -> NP VP\n",
    "        NP -> N | Det N\n",
    "        VP -> V | V NP\n",
    "        N -> \"person\" | \"brother\" | \"sister\" | \"wife\" | \"husband\" | \"son\" | \"mother\" | \"father\" | \"inlaw\" | \"grandparent\" | \"ancestor\"| \"parent\" | \"family\" | \"daughter\" | \"niece\" | \"parent\" | \"child\" | \"uncle\" | \"nephew\"| \"bolu\" | \"simon\" | \"dorcas\"\n",
    "        V -> \"walks\" | \"sees\" | \"loves\" | \"visits\" | \"talks\" | \"cares\" | \"talks\" | \"adores\" | \"held\" | \"tightly\"\n",
    "        Det -> \"the\" | \"a\" |\"my\" | \"your\" | \"his\" | \"her\" | \"their\"\n",
    "    \"\"\")\n",
    "    # string clean up \n",
    "    sentence = sentence.replace('.','').strip().lower()\n",
    "    #parse\n",
    "    tree = check_sentence(sentence,english_grammar)\n",
    "    if tree is not None:\n",
    "        print(\"The sentence is grammatically correct!\\n\")\n",
    "        print(\"This is the parsed tree for that grammar.\")\n",
    "        tree.pretty_print()\n",
    "    else:\n",
    "        print(\"The sentence is not grammatically correct.\")"
   ]
  },
  {
   "cell_type": "code",
   "execution_count": 142,
   "id": "a85f6ad4",
   "metadata": {
    "collapsed": true
   },
   "outputs": [
    {
     "name": "stdout",
     "output_type": "stream",
     "text": [
      "The sentence is grammatically correct!\n",
      "\n",
      "This is the parsed tree for that grammar.\n",
      "          S         \n",
      "      ____|______    \n",
      "     NP          VP \n",
      "  ___|____       |   \n",
      "Det       N      V  \n",
      " |        |      |   \n",
      "the     person walks\n",
      "\n"
     ]
    }
   ],
   "source": [
    "check_english_sentence('The person walks.')"
   ]
  },
  {
   "cell_type": "code",
   "execution_count": 143,
   "id": "3f198d9c",
   "metadata": {
    "collapsed": true
   },
   "outputs": [
    {
     "name": "stdout",
     "output_type": "stream",
     "text": [
      "The sentence is grammatically correct!\n",
      "\n",
      "This is the parsed tree for that grammar.\n",
      "                 S                  \n",
      "      ___________|____               \n",
      "     |                VP            \n",
      "     |            ____|___           \n",
      "     NP          |        NP        \n",
      "  ___|____       |     ___|_____     \n",
      "Det       N      V   Det        N   \n",
      " |        |      |    |         |    \n",
      " my     sister loves her     husband\n",
      "\n"
     ]
    }
   ],
   "source": [
    "check_english_sentence('My sister loves her husband.')"
   ]
  },
  {
   "cell_type": "code",
   "execution_count": 144,
   "id": "146b1d08",
   "metadata": {
    "collapsed": true
   },
   "outputs": [
    {
     "name": "stdout",
     "output_type": "stream",
     "text": [
      "The sentence is grammatically correct!\n",
      "\n",
      "This is the parsed tree for that grammar.\n",
      "                 S                 \n",
      "      ___________|____              \n",
      "     |                VP           \n",
      "     |            ____|___          \n",
      "     NP          |        NP       \n",
      "  ___|_____      |     ___|____     \n",
      "Det        N     V   Det       N   \n",
      " |         |     |    |        |    \n",
      " a      brother sees his     sister\n",
      "\n"
     ]
    }
   ],
   "source": [
    "check_english_sentence(\"A brother sees his sister.\")"
   ]
  },
  {
   "cell_type": "code",
   "execution_count": 145,
   "id": "9148f49f",
   "metadata": {
    "collapsed": true
   },
   "outputs": [
    {
     "name": "stdout",
     "output_type": "stream",
     "text": [
      "The sentence is grammatically correct!\n",
      "\n",
      "This is the parsed tree for that grammar.\n",
      "                 S               \n",
      "      ___________|_____           \n",
      "     |                 VP        \n",
      "     |            _____|___       \n",
      "     NP          |         NP    \n",
      "  ___|____       |      ___|___   \n",
      "Det       N      V    Det      N \n",
      " |        |      |     |       |  \n",
      "the     mother adores her     son\n",
      "\n"
     ]
    }
   ],
   "source": [
    "check_english_sentence(\"The mother adores her son.\")"
   ]
  },
  {
   "cell_type": "code",
   "execution_count": 146,
   "id": "6db24746",
   "metadata": {
    "collapsed": true
   },
   "outputs": [
    {
     "name": "stdout",
     "output_type": "stream",
     "text": [
      "The sentence is grammatically correct!\n",
      "\n",
      "This is the parsed tree for that grammar.\n",
      "                S                 \n",
      "      __________|_____             \n",
      "     |                VP          \n",
      "     |           _____|___         \n",
      "     NP         |         NP      \n",
      "  ___|____      |      ___|____    \n",
      "Det       N     V    Det       N  \n",
      " |        |     |     |        |   \n",
      " a      niece visits her     uncle\n",
      "\n"
     ]
    }
   ],
   "source": [
    "check_english_sentence(\"A niece visits her uncle.\")"
   ]
  },
  {
   "cell_type": "code",
   "execution_count": 147,
   "id": "08ec5098",
   "metadata": {
    "collapsed": true
   },
   "outputs": [
    {
     "name": "stdout",
     "output_type": "stream",
     "text": [
      "The sentence is grammatically correct!\n",
      "\n",
      "This is the parsed tree for that grammar.\n",
      "                      S                \n",
      "      ________________|_____            \n",
      "     |                      VP         \n",
      "     |                 _____|____       \n",
      "     NP               |          NP    \n",
      "  ___|_______         |      ____|___   \n",
      "Det          N        V    Det       N \n",
      " |           |        |     |        |  \n",
      " my     grandparent loves their     son\n",
      "\n"
     ]
    }
   ],
   "source": [
    "check_english_sentence(\"My grandparent loves their son\")"
   ]
  },
  {
   "cell_type": "code",
   "execution_count": 148,
   "id": "538f0c3e",
   "metadata": {
    "collapsed": true
   },
   "outputs": [
    {
     "name": "stdout",
     "output_type": "stream",
     "text": [
      "The sentence is grammatically correct!\n",
      "\n",
      "This is the parsed tree for that grammar.\n",
      "                 S                  \n",
      "      ___________|_________          \n",
      "     |                     VP       \n",
      "     |                 ____|____     \n",
      "     NP               |         NP  \n",
      "  ___|_____           |         |    \n",
      "Det        N          V         N   \n",
      " |         |          |         |    \n",
      " my     brother     loves     dorcas\n",
      "\n"
     ]
    }
   ],
   "source": [
    "check_english_sentence(\"My brother loves Dorcas.\")"
   ]
  },
  {
   "cell_type": "code",
   "execution_count": 149,
   "id": "e80bb1cd",
   "metadata": {
    "collapsed": true
   },
   "outputs": [
    {
     "name": "stdout",
     "output_type": "stream",
     "text": [
      "The sentence is not grammatically correct.\n"
     ]
    }
   ],
   "source": [
    "# wrong sentence\n",
    "check_english_sentence(\"A wife takes care of her husband\")"
   ]
  },
  {
   "cell_type": "code",
   "execution_count": 152,
   "id": "b98a14b9",
   "metadata": {
    "collapsed": true
   },
   "outputs": [
    {
     "name": "stdout",
     "output_type": "stream",
     "text": [
      "The sentence is not grammatically correct.\n"
     ]
    }
   ],
   "source": [
    "check_english_sentence(\"my parent held my sister tightly\")"
   ]
  },
  {
   "cell_type": "code",
   "execution_count": 153,
   "id": "e00b5fee",
   "metadata": {
    "collapsed": true
   },
   "outputs": [
    {
     "name": "stdout",
     "output_type": "stream",
     "text": [
      "The sentence is not grammatically correct.\n"
     ]
    }
   ],
   "source": [
    "check_english_sentence(\"the husband likes his wife\")"
   ]
  },
  {
   "cell_type": "markdown",
   "id": "50b0e5fd",
   "metadata": {},
   "source": [
    "### yoruba sentence checker"
   ]
  },
  {
   "cell_type": "code",
   "execution_count": 134,
   "id": "316c2702",
   "metadata": {},
   "outputs": [],
   "source": [
    "def check_yoruba_sentence(sentence:str) -> None:\n",
    "    # grammar definition     \n",
    "    yoruba_grammar = nltk.CFG.fromstring(\"\"\"\n",
    "        S -> NP VP\n",
    "        NP -> N | N Det\n",
    "        VP -> V | V NP\n",
    "        N -> \"èníyàn\" | \"íyàwó\" | \"ọkọ\" | \"ọmọkùnrin\" | \"ìyá\" | \"bàbá\" | \"àná\" | \"ẹ̀bí\" | \"òbí\" | \"ọmọ\" | \"ìlé\" | \"bolu\" | \"simon\" | \"dorcas\"\n",
    "        V -> \"lu\" | \"nìfé\"| \"kí\" | \"pàdé\" | \"jó\" | \"rá\"\n",
    "        Det -> \"náà\" | \"mí\" | \"wọn\" | \"ré\"\n",
    "    \"\"\")\n",
    "    # string clean up \n",
    "    sentence = sentence.replace('.','').strip().lower()\n",
    "    #parse\n",
    "    tree = check_sentence(sentence,yoruba_grammar)\n",
    "    if tree is not None:\n",
    "        print(\"The sentence is grammatically correct!\\n\")\n",
    "        print(\"This is the parsed tree for that grammar.\")\n",
    "        tree.pretty_print()\n",
    "    else:\n",
    "        print(\"The sentence is not grammatically correct.\")"
   ]
  },
  {
   "cell_type": "code",
   "execution_count": 122,
   "id": "35b82087",
   "metadata": {},
   "outputs": [
    {
     "name": "stdout",
     "output_type": "stream",
     "text": [
      "ẹ̀bí mí pàdé àná wọn\n",
      "The sentence is grammatically correct!\n",
      "\n",
      "This is the parsed tree for that grammar.\n",
      "              S              \n",
      "       _______|____           \n",
      "      |            VP        \n",
      "      |        ____|___       \n",
      "      NP      |        NP    \n",
      "  ____|___    |     ___|___   \n",
      " N       Det  V    N      Det\n",
      " |        |   |    |       |  \n",
      "ẹ̀bí      mí pàdé àná     wọn\n",
      "\n"
     ]
    }
   ],
   "source": [
    "check_yoruba_sentence(\"ẹ̀bí mí pàdé àná wọn\")"
   ]
  },
  {
   "cell_type": "code",
   "execution_count": 116,
   "id": "93711fa1",
   "metadata": {
    "collapsed": true
   },
   "outputs": [
    {
     "name": "stdout",
     "output_type": "stream",
     "text": [
      "ìyá nìfé ọmọ ré\n",
      "The sentence is grammatically correct!\n",
      "\n",
      "This is the parsed tree for that grammar.\n",
      "          S             \n",
      "  ________|___           \n",
      " |            VP        \n",
      " |    ________|___       \n",
      " NP  |            NP    \n",
      " |   |         ___|___   \n",
      " N   V        N      Det\n",
      " |   |        |       |  \n",
      "ìyá nìfé     ọmọ      ré\n",
      "\n"
     ]
    }
   ],
   "source": [
    "check_yoruba_sentence(\"ìyá nìfé ọmọ ré\")"
   ]
  },
  {
   "cell_type": "code",
   "execution_count": 117,
   "id": "6d0b8cc1",
   "metadata": {
    "collapsed": true
   },
   "outputs": [
    {
     "name": "stdout",
     "output_type": "stream",
     "text": [
      "ọkọ kí íyàwó ré\n",
      "The sentence is grammatically correct!\n",
      "\n",
      "This is the parsed tree for that grammar.\n",
      "         S               \n",
      "  _______|____            \n",
      " |            VP         \n",
      " |    ________|____       \n",
      " NP  |             NP    \n",
      " |   |         ____|___   \n",
      " N   V        N       Det\n",
      " |   |        |        |  \n",
      "ọkọ  kí     íyàwó      ré\n",
      "\n"
     ]
    }
   ],
   "source": [
    "check_yoruba_sentence(\"ọkọ kí íyàwó ré\")"
   ]
  },
  {
   "cell_type": "code",
   "execution_count": 118,
   "id": "c992ce9b",
   "metadata": {
    "collapsed": true
   },
   "outputs": [
    {
     "name": "stdout",
     "output_type": "stream",
     "text": [
      "bàbá lu ọmọkùnrin náà\n",
      "The sentence is grammatically correct!\n",
      "\n",
      "This is the parsed tree for that grammar.\n",
      "          S                   \n",
      "  ________|______              \n",
      " |               VP           \n",
      " |     __________|______       \n",
      " NP   |                 NP    \n",
      " |    |           ______|___   \n",
      " N    V          N         Det\n",
      " |    |          |          |  \n",
      "bàbá  lu     ọmọkùnrin     náà\n",
      "\n"
     ]
    }
   ],
   "source": [
    "check_yoruba_sentence(\"bàbá lu ọmọkùnrin náà\")"
   ]
  },
  {
   "cell_type": "code",
   "execution_count": 119,
   "id": "01a9f4ed",
   "metadata": {
    "collapsed": true
   },
   "outputs": [
    {
     "name": "stdout",
     "output_type": "stream",
     "text": [
      "ìyá mí jó\n",
      "The sentence is grammatically correct!\n",
      "\n",
      "This is the parsed tree for that grammar.\n",
      "         S     \n",
      "      ___|___   \n",
      "     NP      VP\n",
      "  ___|___    |  \n",
      " N      Det  V \n",
      " |       |   |  \n",
      "ìyá      mí  jó\n",
      "\n"
     ]
    }
   ],
   "source": [
    "check_yoruba_sentence(\"ìyá mí jó\")"
   ]
  },
  {
   "cell_type": "code",
   "execution_count": 133,
   "id": "ac8c3e61",
   "metadata": {
    "collapsed": true
   },
   "outputs": [
    {
     "name": "stdout",
     "output_type": "stream",
     "text": [
      "ẹ̀bí mí rá ìlé náà\n",
      "The sentence is grammatically correct!\n",
      "\n",
      "This is the parsed tree for that grammar.\n",
      "              S             \n",
      "       _______|___           \n",
      "      |           VP        \n",
      "      |        ___|___       \n",
      "      NP      |       NP    \n",
      "  ____|___    |    ___|___   \n",
      " N       Det  V   N      Det\n",
      " |        |   |   |       |  \n",
      "ẹ̀bí      mí  rá ìlé     náà\n",
      "\n"
     ]
    }
   ],
   "source": [
    "check_yoruba_sentence(\"ẹ̀bí mí rá ìlé náà\")"
   ]
  },
  {
   "cell_type": "code",
   "execution_count": 135,
   "id": "f8b70094",
   "metadata": {},
   "outputs": [
    {
     "name": "stdout",
     "output_type": "stream",
     "text": [
      "The sentence is not grammatically correct.\n"
     ]
    }
   ],
   "source": [
    "check_yoruba_sentence(\"ìyá bàbá mí jó\")"
   ]
  },
  {
   "cell_type": "code",
   "execution_count": 136,
   "id": "7042927b",
   "metadata": {},
   "outputs": [
    {
     "name": "stdout",
     "output_type": "stream",
     "text": [
      "The sentence is not grammatically correct.\n"
     ]
    }
   ],
   "source": [
    "check_yoruba_sentence(\"mó ló kí ìyá mí\")"
   ]
  },
  {
   "cell_type": "code",
   "execution_count": 138,
   "id": "449f01b7",
   "metadata": {},
   "outputs": [
    {
     "name": "stdout",
     "output_type": "stream",
     "text": [
      "The sentence is not grammatically correct.\n"
     ]
    }
   ],
   "source": [
    "check_yoruba_sentence(\"ọkọ mí pàdé ré\")"
   ]
  },
  {
   "cell_type": "code",
   "execution_count": null,
   "id": "9c1b2b95",
   "metadata": {},
   "outputs": [],
   "source": []
  }
 ],
 "metadata": {
  "kernelspec": {
   "display_name": "Python 3 (ipykernel)",
   "language": "python",
   "name": "python3"
  },
  "language_info": {
   "codemirror_mode": {
    "name": "ipython",
    "version": 3
   },
   "file_extension": ".py",
   "mimetype": "text/x-python",
   "name": "python",
   "nbconvert_exporter": "python",
   "pygments_lexer": "ipython3",
   "version": "3.9.13"
  }
 },
 "nbformat": 4,
 "nbformat_minor": 5
}
